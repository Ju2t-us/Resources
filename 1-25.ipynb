{
 "cells": [
  {
   "cell_type": "code",
   "execution_count": 1,
   "id": "6da6b4f7",
   "metadata": {},
   "outputs": [
    {
     "name": "stdout",
     "output_type": "stream",
     "text": [
      "Root Mean Squared Error (RMSE): 367.4196807490742\n",
      "Equation of the polynomial:\n",
      "Sales Price = 7661.46 + -0.05 * age^0 + -23.15 * miles_driven^1 + -0.00 * age^1 + 4.32 * miles_driven^2\n"
     ]
    }
   ],
   "source": [
    "import pandas as pd\n",
    "import numpy as np\n",
    "\n",
    "df = pd.read_csv(\"cars.csv\")\n",
    "\n",
    "# Function to create polynomial features\n",
    "def create_polynomial_features(X, degree):\n",
    "    n_samples, n_features = X.shape\n",
    "    result = np.ones((n_samples, 1))\n",
    "    for d in range(1, degree + 1):\n",
    "        for i in range(n_features):\n",
    "            result = np.hstack((result, (X[:, i] ** d).reshape(-1, 1)))\n",
    "    return result\n",
    "\n",
    "# Function to train polynomial regression model\n",
    "def train_polynomial_regression(X, y, degree):\n",
    "    X_poly = create_polynomial_features(X, degree)\n",
    "    X_transposed = np.transpose(X_poly)\n",
    "    # Compute coefficients using normal equation\n",
    "    coefficients = np.linalg.inv(X_transposed.dot(X_poly)).dot(X_transposed).dot(y)\n",
    "    return coefficients\n",
    "\n",
    "# Function to make predictions\n",
    "def predict(X, coefficients, degree):\n",
    "    X_poly = create_polynomial_features(X, degree)\n",
    "    return X_poly.dot(coefficients)\n",
    "\n",
    "# Function to calculate RMSE\n",
    "def calculate_rmse(y_true, y_pred):\n",
    "    mse = np.mean((y_true - y_pred) ** 2)\n",
    "    return np.sqrt(mse)\n",
    "\n",
    "# Selecting features and target variable\n",
    "X = df[['miles_driven', 'age']].values\n",
    "y = df['sales_price'].values\n",
    "\n",
    "# Set degree of polynomial\n",
    "degree = 2\n",
    "\n",
    "# Train polynomial regression model\n",
    "coefficients = train_polynomial_regression(X, y, degree)\n",
    "\n",
    "# Make predictions\n",
    "y_pred = predict(X, coefficients, degree)\n",
    "\n",
    "# Calculate RMSE\n",
    "rmse = calculate_rmse(y, y_pred)\n",
    "print(\"Root Mean Squared Error (RMSE):\", rmse)\n",
    "\n",
    "# Generate the equation of the polynomial\n",
    "equation = f\"Sales Price = {coefficients[0]:.2f} + \"\n",
    "n_features = X.shape[1]\n",
    "feature_names = ['miles_driven', 'age']\n",
    "for i in range(1, len(coefficients)):\n",
    "    power_indices = [(i - n_features) // n_features, (i - n_features) % n_features]\n",
    "    equation += f\"{coefficients[i]:.2f} * {feature_names[power_indices[1]]}^{power_indices[0] + 1} + \"\n",
    "\n",
    "print(\"Equation of the polynomial:\")\n",
    "print(equation[:-3])\n"
   ]
  }
 ],
 "metadata": {
  "kernelspec": {
   "display_name": "Python 3 (ipykernel)",
   "language": "python",
   "name": "python3"
  },
  "language_info": {
   "codemirror_mode": {
    "name": "ipython",
    "version": 3
   },
   "file_extension": ".py",
   "mimetype": "text/x-python",
   "name": "python",
   "nbconvert_exporter": "python",
   "pygments_lexer": "ipython3",
   "version": "3.9.13"
  }
 },
 "nbformat": 4,
 "nbformat_minor": 5
}
