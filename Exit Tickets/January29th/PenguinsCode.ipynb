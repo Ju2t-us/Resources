{
 "cells": [
  {
   "cell_type": "code",
   "execution_count": 21,
   "metadata": {},
   "outputs": [
    {
     "name": "stdout",
     "output_type": "stream",
     "text": [
      "  studyName  Sample Number                              Species  Region  \\\n",
      "0   PAL0708              1  Adelie Penguin (Pygoscelis adeliae)  Anvers   \n",
      "1   PAL0708              2  Adelie Penguin (Pygoscelis adeliae)  Anvers   \n",
      "2   PAL0708              3  Adelie Penguin (Pygoscelis adeliae)  Anvers   \n",
      "3   PAL0708              4  Adelie Penguin (Pygoscelis adeliae)  Anvers   \n",
      "4   PAL0708              5  Adelie Penguin (Pygoscelis adeliae)  Anvers   \n",
      "\n",
      "      Island               Stage Individual ID Clutch Completion  Date Egg  \\\n",
      "0  Torgersen  Adult, 1 Egg Stage          N1A1               Yes  11/11/07   \n",
      "1  Torgersen  Adult, 1 Egg Stage          N1A2               Yes  11/11/07   \n",
      "2  Torgersen  Adult, 1 Egg Stage          N2A1               Yes  11/16/07   \n",
      "3  Torgersen  Adult, 1 Egg Stage          N2A2               Yes  11/16/07   \n",
      "4  Torgersen  Adult, 1 Egg Stage          N3A1               Yes  11/16/07   \n",
      "\n",
      "   Culmen Length (mm)  Culmen Depth (mm)  Flipper Length (mm)  Body Mass (g)  \\\n",
      "0                39.1               18.7                181.0         3750.0   \n",
      "1                39.5               17.4                186.0         3800.0   \n",
      "2                40.3               18.0                195.0         3250.0   \n",
      "3                 NaN                NaN                  NaN            NaN   \n",
      "4                36.7               19.3                193.0         3450.0   \n",
      "\n",
      "      Sex  Delta 15 N (o/oo)  Delta 13 C (o/oo)  \\\n",
      "0    MALE                NaN                NaN   \n",
      "1  FEMALE            8.94956          -24.69454   \n",
      "2  FEMALE            8.36821          -25.33302   \n",
      "3     NaN                NaN                NaN   \n",
      "4  FEMALE            8.76651          -25.32426   \n",
      "\n",
      "                         Comments  \n",
      "0  Not enough blood for isotopes.  \n",
      "1                             NaN  \n",
      "2                             NaN  \n",
      "3              Adult not sampled.  \n",
      "4                             NaN  \n"
     ]
    }
   ],
   "source": [
    "import pandas as pd\n",
    "import numpy as np\n",
    "\n",
    "# Load the dataset\n",
    "file_path = r'C:\\Users\\tyler\\OneDrive\\Desktop\\GitHub Repositories\\DataScience2\\Exit_Tickets\\January29th\\penguins.csv'\n",
    "data = pd.read_csv(file_path)\n",
    "\n",
    "# Display the first few rows of the dataset for inspection\n",
    "print(data.head())\n"
   ]
  },
  {
   "cell_type": "code",
   "execution_count": 22,
   "metadata": {},
   "outputs": [],
   "source": [
    "# Apply one-hot encoding\n",
    "categorical_cols = ['Species', 'Region', 'Island', 'Stage', 'Sex', 'Clutch Completion']\n",
    "data_encoded = pd.get_dummies(data, columns=categorical_cols)\n",
    "\n",
    "# Drop rows with any missing values\n",
    "data_encoded.dropna(inplace=True)\n"
   ]
  },
  {
   "cell_type": "code",
   "execution_count": 23,
   "metadata": {},
   "outputs": [],
   "source": [
    "# Define the MSE calculation function\n",
    "def calculate_mse(data):\n",
    "    if len(data) == 0:\n",
    "        return 0\n",
    "    return np.var(data) * len(data)\n",
    "\n",
    "# Define the function to find the best split\n",
    "def best_split(X, y):\n",
    "    min_mse = float('inf')\n",
    "    best_split_feature = None\n",
    "    best_split_value = None\n",
    "\n",
    "    for feature in range(X.shape[1]):\n",
    "        possible_values = set(X[:, feature])\n",
    "        for value in possible_values:\n",
    "            left_mask = X[:, feature] <= value\n",
    "            right_mask = X[:, feature] > value\n",
    "\n",
    "            left_mse = calculate_mse(y[left_mask])\n",
    "            right_mse = calculate_mse(y[right_mask])\n",
    "\n",
    "            total_mse = left_mse + right_mse\n",
    "\n",
    "            if total_mse < min_mse:\n",
    "                min_mse = total_mse\n",
    "                best_split_feature = feature\n",
    "                best_split_value = value\n",
    "\n",
    "    return best_split_feature, best_split_value, min_mse\n",
    "\n",
    "# Define the TreeNode class\n",
    "class TreeNode:\n",
    "    def __init__(self, feature=None, value=None, left=None, right=None, *, output=None):\n",
    "        self.feature = feature\n",
    "        self.value = value\n",
    "        self.left = left\n",
    "        self.right = right\n",
    "        self.output = output\n",
    "\n",
    "# Define the function to build the tree\n",
    "def build_tree(X, y, depth=1, max_depth=5):\n",
    "    if depth == max_depth or len(set(y)) == 1:\n",
    "        return TreeNode(output=np.mean(y))\n",
    "\n",
    "    feature, value, mse = best_split(X, y)\n",
    "    \n",
    "    if mse == float('inf'):\n",
    "        return TreeNode(output=np.mean(y))\n",
    "\n",
    "    left_mask = X[:, feature] <= value\n",
    "    right_mask = X[:, feature] > value\n",
    "\n",
    "    left_subtree = build_tree(X[left_mask], y[left_mask], depth+1, max_depth)\n",
    "    right_subtree = build_tree(X[right_mask], y[right_mask], depth+1, max_depth)\n",
    "\n",
    "    return TreeNode(feature, value, left_subtree, right_subtree)\n"
   ]
  },
  {
   "cell_type": "code",
   "execution_count": 24,
   "metadata": {},
   "outputs": [],
   "source": [
    "# Prepare the features (X) and target (y)\n",
    "selected_columns = ['Culmen Length (mm)', 'Culmen Depth (mm)', 'Flipper Length (mm)', \n",
    "                    'Delta 15 N (o/oo)', 'Delta 13 C (o/oo)'] + [col for col in data_encoded.columns if col.startswith(tuple(categorical_cols))]\n",
    "\n",
    "X = data_encoded[selected_columns].values\n",
    "y = data_encoded['Body Mass (g)'].values\n",
    "\n",
    "# Build the tree with the selected features\n",
    "decision_tree = build_tree(X, y, max_depth=5)\n"
   ]
  },
  {
   "cell_type": "code",
   "execution_count": 25,
   "metadata": {},
   "outputs": [
    {
     "name": "stdout",
     "output_type": "stream",
     "text": [
      "Root Feature: Culmen Length (mm)\n",
      "Splitting Value: 38.9\n"
     ]
    }
   ],
   "source": [
    "root_feature_index = decision_tree.feature\n",
    "root_feature_name = selected_columns[root_feature_index]\n",
    "root_feature_value = decision_tree.value\n",
    "\n",
    "print(f\"Root Feature: {root_feature_name}\")\n",
    "print(f\"Splitting Value: {root_feature_value}\")\n"
   ]
  }
 ],
 "metadata": {
  "kernelspec": {
   "display_name": "Python 3",
   "language": "python",
   "name": "python3"
  },
  "language_info": {
   "codemirror_mode": {
    "name": "ipython",
    "version": 3
   },
   "file_extension": ".py",
   "mimetype": "text/x-python",
   "name": "python",
   "nbconvert_exporter": "python",
   "pygments_lexer": "ipython3",
   "version": "3.11.9"
  }
 },
 "nbformat": 4,
 "nbformat_minor": 2
}
