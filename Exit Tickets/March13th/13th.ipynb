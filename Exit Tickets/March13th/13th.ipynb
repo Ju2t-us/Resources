{
 "cells": [
  {
   "cell_type": "code",
   "execution_count": 6,
   "metadata": {},
   "outputs": [
    {
     "name": "stdout",
     "output_type": "stream",
     "text": [
      "   user_id  item_id  rating     timestamp                            title\n",
      "0        0       50       5  881250949000                 Star Wars (1977)\n",
      "1        0      172       5  881250949000  Empire Strikes Back, The (1980)\n",
      "2        0      133       1  881250949000        Gone with the Wind (1939)\n",
      "3      196      242       3  881250949000                     Kolya (1996)\n",
      "4      186      302       3  891717742000         L.A. Confidential (1997)\n"
     ]
    }
   ],
   "source": [
    "import json\n",
    "import pandas as pd\n",
    "\n",
    "# Load movies data\n",
    "with open('movies.json', 'r') as file:\n",
    "    movies_data = json.load(file)\n",
    "\n",
    "# Convert movies data to a DataFrame\n",
    "movies_df = pd.DataFrame(movies_data)\n",
    "\n",
    "# Load reviews data\n",
    "with open('reviews.json', 'r') as file:\n",
    "    reviews_data = json.load(file)\n",
    "\n",
    "# Convert reviews data to a DataFrame\n",
    "reviews_df = pd.DataFrame(reviews_data)\n",
    "\n",
    "# Merge the two DataFrames on 'item_id'\n",
    "combined_df = pd.merge(reviews_df, movies_df, how='left', left_on='item_id', right_on='item_id')\n",
    "\n",
    "# Display the first few rows of the combined dataset\n",
    "print(combined_df.head())\n"
   ]
  },
  {
   "cell_type": "code",
   "execution_count": 7,
   "metadata": {},
   "outputs": [
    {
     "name": "stdout",
     "output_type": "stream",
     "text": [
      "Number of estimated clusters : 942\n",
      "Recommended Movie for user 186: Lord of Illusions (1995)\n"
     ]
    }
   ],
   "source": [
    "import pandas as pd\n",
    "from sklearn.cluster import MeanShift\n",
    "import numpy as np\n",
    "\n",
    "# Convert the DataFrame into a matrix of user ratings\n",
    "user_movie_ratings = combined_df.pivot_table(index='user_id', columns='title', values='rating').fillna(0)\n",
    "\n",
    "# Apply Mean Shift clustering\n",
    "ms = MeanShift(bandwidth=2)  # bandwidth is a hyperparameter\n",
    "ms.fit(user_movie_ratings)\n",
    "\n",
    "# Get cluster labels for each user\n",
    "labels = ms.labels_\n",
    "\n",
    "# Number of clusters\n",
    "n_clusters_ = len(np.unique(labels))\n",
    "\n",
    "# Assign cluster labels to users\n",
    "user_movie_ratings['cluster'] = labels\n",
    "\n",
    "# Finding the cluster of user 186\n",
    "user_186_cluster = user_movie_ratings.loc[186, 'cluster']\n",
    "\n",
    "# Movies rated by user 186\n",
    "rated_movies_by_186 = combined_df[combined_df['user_id'] == 186]['title']\n",
    "\n",
    "# Filter for movies in the same cluster and not rated by user 186\n",
    "recommendation_pool = user_movie_ratings[user_movie_ratings['cluster'] == user_186_cluster]\n",
    "unwatched_movies = recommendation_pool.loc[:, recommendation_pool.columns != 'cluster'].mean().sort_values(ascending=False)\n",
    "\n",
    "# Exclude the movies already watched by user 186\n",
    "unwatched_movies = unwatched_movies.drop(index=rated_movies_by_186)\n",
    "\n",
    "# Recommend the highest rated movie in the cluster that user 186 hasn't watched\n",
    "recommended_movie = unwatched_movies.idxmax()\n",
    "\n",
    "print(f\"Number of estimated clusters : {n_clusters_}\")\n",
    "print(f\"Recommended Movie for user 186: {recommended_movie}\")\n"
   ]
  }
 ],
 "metadata": {
  "kernelspec": {
   "display_name": "Python 3",
   "language": "python",
   "name": "python3"
  },
  "language_info": {
   "codemirror_mode": {
    "name": "ipython",
    "version": 3
   },
   "file_extension": ".py",
   "mimetype": "text/x-python",
   "name": "python",
   "nbconvert_exporter": "python",
   "pygments_lexer": "ipython3",
   "version": "3.11.9"
  }
 },
 "nbformat": 4,
 "nbformat_minor": 2
}
