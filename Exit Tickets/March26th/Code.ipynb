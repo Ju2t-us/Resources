{
 "cells": [
  {
   "cell_type": "code",
   "execution_count": 18,
   "metadata": {},
   "outputs": [],
   "source": [
    "import pandas as pd\n",
    "from sklearn.preprocessing import StandardScaler, LabelEncoder\n",
    "from sklearn.mixture import GaussianMixture\n",
    "from sklearn.metrics import silhouette_score"
   ]
  },
  {
   "cell_type": "code",
   "execution_count": 19,
   "metadata": {},
   "outputs": [
    {
     "name": "stdout",
     "output_type": "stream",
     "text": [
      "The best number of clusters (k) found is: 2.\n",
      "This value is considered the best because it achieved the highest silhouette score of 0.23.\n",
      "Characteristics of Customer Segment 0:\n",
      "- Average Year of Birth: 1969.36\n",
      "- Average Income: 42384.96\n",
      "- Average Amount Spent on Wines: 155.84\n",
      "- Average Number of Deals Purchases: 2.56\n",
      "- Average Number of Web Purchases: 3.57\n",
      "- Education Level (most common): Graduation\n",
      "- Marital Status (most common): Married\n",
      "- Proportion accepting Campaign 1: 0.00\n"
     ]
    }
   ],
   "source": [
    "import pandas as pd\n",
    "from sklearn.preprocessing import StandardScaler, LabelEncoder\n",
    "from sklearn.mixture import GaussianMixture\n",
    "from sklearn.metrics import silhouette_score\n",
    "\n",
    "# Load data\n",
    "df = pd.read_csv(r'C:\\Users\\tyler\\OneDrive\\Desktop\\GitHub Repositories\\DataScience2\\Exit_Tickets\\March26th\\marketingData.csv')\n",
    "\n",
    "# Handle missing values\n",
    "df['Income'].fillna(df['Income'].median(), inplace=True)\n",
    "\n",
    "# Convert categorical variables to numerical with Label Encoding\n",
    "categorical_columns = ['Education', 'Marital_Status']\n",
    "label_encoders = {}\n",
    "for column in categorical_columns:\n",
    "    le = LabelEncoder()\n",
    "    df[column] = le.fit_transform(df[column].astype(str))\n",
    "    label_encoders[column] = le\n",
    "\n",
    "# Normalize numerical variables\n",
    "scaler = StandardScaler()\n",
    "numerical_columns = df.select_dtypes(include=['int64', 'float64']).columns\n",
    "df[numerical_columns] = scaler.fit_transform(df[numerical_columns])\n",
    "\n",
    "# Feature Selection: Include both numerical and categorical features\n",
    "features = list(numerical_columns) + categorical_columns\n",
    "X = df[features]\n",
    "\n",
    "# Determine the best number of components based on silhouette score\n",
    "n_components_range = range(2, 100)\n",
    "best_n_components = 2\n",
    "best_silhouette_score = -1\n",
    "\n",
    "for n_components in n_components_range:\n",
    "    gmm = GaussianMixture(n_components=n_components, random_state=0)\n",
    "    gmm.fit(X)\n",
    "    labels = gmm.predict(X)\n",
    "    silhouette_avg = silhouette_score(X, labels)\n",
    "\n",
    "    if silhouette_avg > best_silhouette_score:\n",
    "        best_silhouette_score = silhouette_avg\n",
    "        best_n_components = n_components\n",
    "\n",
    "# Print the best number of clusters and rationale\n",
    "print(f\"The best number of clusters (k) found is: {best_n_components}.\")\n",
    "print(f\"This value is considered the best because it achieved the highest silhouette score of {best_silhouette_score:.2f}.\")\n",
    "\n",
    "# Fit the GMM with the best number of components\n",
    "gmm = GaussianMixture(n_components=best_n_components, random_state=0)\n",
    "gmm.fit(X)\n",
    "labels = gmm.predict(X)\n",
    "df['Segment'] = labels\n",
    "\n",
    "# Create a copy of the data for Segment 0\n",
    "segment_0 = df[df['Segment'] == 0].copy()\n",
    "\n",
    "# Revert scaling for more interpretable results\n",
    "segment_0[numerical_columns] = scaler.inverse_transform(segment_0[numerical_columns])\n",
    "\n",
    "# Translate the label encoded features back to original\n",
    "for column, le in label_encoders.items():\n",
    "    segment_0[column] = le.inverse_transform(segment_0[column].astype(int))\n",
    "\n",
    "# Description of Segment 0\n",
    "description = segment_0.describe(include='all')\n",
    "\n",
    "# Print statement for describing the characteristics of Segment 0\n",
    "print(f\"Characteristics of Customer Segment 0:\\n\"\n",
    "      f\"- Average Year of Birth: {description.at['mean', 'Year_Birth']:.2f}\\n\"\n",
    "      f\"- Average Income: {description.at['mean', 'Income']:.2f}\\n\"\n",
    "      f\"- Average Amount Spent on Wines: {description.at['mean', 'MntWines']:.2f}\\n\"\n",
    "      f\"- Average Number of Deals Purchases: {description.at['mean', 'NumDealsPurchases']:.2f}\\n\"\n",
    "      f\"- Average Number of Web Purchases: {description.at['mean', 'NumWebPurchases']:.2f}\\n\"\n",
    "      f\"- Education Level (most common): {segment_0['Education'].mode()[0]}\\n\"\n",
    "      f\"- Marital Status (most common): {segment_0['Marital_Status'].mode()[0]}\\n\"\n",
    "      f\"- Proportion accepting Campaign 1: {description.at['mean', 'AcceptedCmp1']:.2f}\")\n"
   ]
  }
 ],
 "metadata": {
  "kernelspec": {
   "display_name": "Python 3",
   "language": "python",
   "name": "python3"
  },
  "language_info": {
   "codemirror_mode": {
    "name": "ipython",
    "version": 3
   },
   "file_extension": ".py",
   "mimetype": "text/x-python",
   "name": "python",
   "nbconvert_exporter": "python",
   "pygments_lexer": "ipython3",
   "version": "3.11.9"
  }
 },
 "nbformat": 4,
 "nbformat_minor": 2
}
