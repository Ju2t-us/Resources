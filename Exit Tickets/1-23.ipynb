{
 "cells": [
  {
   "cell_type": "code",
   "execution_count": 1,
   "id": "a00ea149",
   "metadata": {},
   "outputs": [
    {
     "name": "stdout",
     "output_type": "stream",
     "text": [
      "Equation of the line:\n",
      "y = 6844.51 * x + 31921.22\n",
      "Model is considered correct.\n",
      "Accuracy: 28.95%\n"
     ]
    }
   ],
   "source": [
    "import pandas as pd\n",
    "import numpy as np\n",
    "\n",
    "df = pd.read_csv(\"ETData - ETData.csv\")\n",
    "\n",
    "# Drop rows with missing values\n",
    "df.dropna(inplace=True)\n",
    "\n",
    "# Define independent variable (X) and dependent variable (y)\n",
    "X = df['Years of Experience'].values\n",
    "y = df['Salary'].values\n",
    "\n",
    "# Calculate the mean of X and y\n",
    "mean_X = np.mean(X)\n",
    "mean_y = np.mean(y)\n",
    "\n",
    "# Calculate the coefficients (slope and intercept) of the line\n",
    "numerator = np.sum((X - mean_X) * (y - mean_y))\n",
    "denominator = np.sum((X - mean_X) ** 2)\n",
    "\n",
    "slope = numerator / denominator\n",
    "intercept = mean_y - slope * mean_X\n",
    "\n",
    "# Print the equation of the line\n",
    "print(\"Equation of the line:\")\n",
    "print(f\"y = {slope:.2f} * x + {intercept:.2f}\")\n",
    "\n",
    "# Make predictions\n",
    "predicted_salaries = slope * X + intercept\n",
    "\n",
    "# Calculate the absolute error between predicted and actual salaries\n",
    "absolute_errors = np.abs(predicted_salaries - y)\n",
    "\n",
    "# Calculate the percentage of predictions within +/- $5,000 of the actual salary\n",
    "within_range_count = np.sum(absolute_errors <= 5000)\n",
    "total_count = len(y)\n",
    "accuracy_percentage = (within_range_count / total_count) * 100\n",
    "\n",
    "# Check if accuracy meets the threshold\n",
    "if accuracy_percentage >= 10:\n",
    "    print(\"Model is considered correct.\")\n",
    "else:\n",
    "    print(\"Model is not accurate enough.\")\n",
    "\n",
    "print(f\"Accuracy: {accuracy_percentage:.2f}%\")"
   ]
  },
  {
   "cell_type": "code",
   "execution_count": null,
   "id": "7e469213",
   "metadata": {},
   "outputs": [],
   "source": []
  }
 ],
 "metadata": {
  "kernelspec": {
   "display_name": "Python 3 (ipykernel)",
   "language": "python",
   "name": "python3"
  },
  "language_info": {
   "codemirror_mode": {
    "name": "ipython",
    "version": 3
   },
   "file_extension": ".py",
   "mimetype": "text/x-python",
   "name": "python",
   "nbconvert_exporter": "python",
   "pygments_lexer": "ipython3",
   "version": "3.9.13"
  }
 },
 "nbformat": 4,
 "nbformat_minor": 5
}
